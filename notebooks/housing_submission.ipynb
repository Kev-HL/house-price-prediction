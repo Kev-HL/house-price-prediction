{
 "cells": [
  {
   "cell_type": "markdown",
   "id": "fc74b004",
   "metadata": {},
   "source": [
    "# House Prices - Advanced Regression Techniques"
   ]
  },
  {
   "cell_type": "markdown",
   "id": "1afd2d21",
   "metadata": {},
   "source": [
    "In this notebook we will create a model to predict house prices for the **Kaggle** competition [House Prices - Advanced Regression Techniques](https://www.kaggle.com/competitions/house-prices-advanced-regression-techniques).  \n",
    "\n",
    "This project uses the Ames Housing dataset provided as part of the Kaggle competition:  \n",
    "*Anna Montoya and DataCanary. House Prices - Advanced Regression Techniques. Kaggle, 2016.*  \n",
    "The dataset is used strictly for non-commercial, educational purposes.  "
   ]
  },
  {
   "cell_type": "markdown",
   "id": "556bf491",
   "metadata": {},
   "source": [
    "This is a streamlined notebook with only the necessary steps for preparing the data, training the model, and exporting the predictions for submission.  \n",
    "\n",
    "The whole process (EDA, feature engineering and selection, finetuning of models, etc) is available in the housing_full_analysis.ipynb notebook on my project repository:  \n",
    "https://github.com/Kev-HL/house-price-prediction"
   ]
  },
  {
   "cell_type": "markdown",
   "id": "37d10d9f",
   "metadata": {},
   "source": [
    "## 1. Setup and data loading"
   ]
  },
  {
   "cell_type": "code",
   "execution_count": 1,
   "id": "d8a203e2",
   "metadata": {},
   "outputs": [],
   "source": [
    "import numpy as np\n",
    "import pandas as pd\n",
    "from catboost import CatBoostRegressor, Pool"
   ]
  },
  {
   "cell_type": "code",
   "execution_count": 2,
   "id": "07dd549e",
   "metadata": {},
   "outputs": [],
   "source": [
    "trainrawdata_path = '../data/raw/train.csv' # Relative path to the training dataset\n",
    "traindf = pd.read_csv(trainrawdata_path)\n",
    "\n",
    "testrawdata_path = '../data/raw/test.csv' # Relative path to the test dataset\n",
    "testdf = pd.read_csv(testrawdata_path)"
   ]
  },
  {
   "cell_type": "markdown",
   "id": "f7a0333c",
   "metadata": {},
   "source": [
    "## 2. Data preprocessing"
   ]
  },
  {
   "cell_type": "markdown",
   "id": "828d646c",
   "metadata": {},
   "source": [
    "### 2.1. Handling missing values"
   ]
  },
  {
   "cell_type": "markdown",
   "id": "61f6bcdf",
   "metadata": {},
   "source": [
    "Even though Catboost can handle missing values natively, we will repeat the same steps we did in the main notebook, for consistency."
   ]
  },
  {
   "cell_type": "markdown",
   "id": "bb273837",
   "metadata": {},
   "source": [
    "Handle missing values on traindf:"
   ]
  },
  {
   "cell_type": "code",
   "execution_count": 3,
   "id": "473882e8",
   "metadata": {},
   "outputs": [],
   "source": [
    "# Fill NaN values in PoolQC with 'None'\n",
    "traindf['PoolQC'] = traindf['PoolQC'].fillna('None')\n",
    "\n",
    "# Drop rows where MiscVal is 0 and MiscFeature is not NaN\n",
    "traindf = traindf.drop(index=traindf[(traindf['MiscVal'] == 0) & (traindf['MiscFeature'].notna())].index)\n",
    "\n",
    "# Fill NaN values in MiscFeature with 'None'\n",
    "traindf['MiscFeature'] = traindf['MiscFeature'].fillna('None')\n",
    "\n",
    "# Fill NaN values in Alley with 'None'\n",
    "traindf['Alley'] = traindf['Alley'].fillna('None')\n",
    "\n",
    "# Fill NaN values in Fence with 'None'\n",
    "traindf['Fence'] = traindf['Fence'].fillna('None')\n",
    "\n",
    "# Drop NaN values where both MasVnrType and MasVnrArea are NaN\n",
    "traindf = traindf.drop(index=traindf[(traindf['MasVnrType'].isnull()) & (traindf['MasVnrArea'].isnull())].index)\n",
    "# Drop rows where MasVnrArea is 1.0\n",
    "traindf = traindf.drop(index=traindf[(traindf['MasVnrArea'] == 1.0)].index)\n",
    "# Fill NaN values in MasVnrType and MasVnrArea based on Neighborhood\n",
    "# Create boolean mask for those rows where MasVnrType is NaN and MasVnrArea is not 0\n",
    "mask1 = traindf['MasVnrType'].isna() & (traindf['MasVnrArea'] != 0)\n",
    "# Create boolean mask for those rows where MasVnrType has a valid value and MasVnrArea is 0\n",
    "mask2 = ~traindf['MasVnrType'].isna() & (traindf['MasVnrArea'] == 0)\n",
    "# Group by Neighborhood and get the mode of MasVnrType by Neighborhood and the median of MasVnrArea.\n",
    "MasVnrType_mode_Neighborhood = (traindf.groupby('Neighborhood')['MasVnrType'].agg(lambda x: x.mode().iloc[0] if not x.mode().empty else 'None'))\n",
    "MasVnrArea_median_Neighborhood = traindf.groupby('Neighborhood')['MasVnrArea'].median()\n",
    "# Map the mode values to the original DataFrame\n",
    "traindf.loc[mask1, 'MasVnrType'] = traindf.loc[mask1, 'Neighborhood'].map(MasVnrType_mode_Neighborhood)\n",
    "traindf.loc[mask2, 'MasVnrArea'] = traindf.loc[mask2, 'Neighborhood'].map(MasVnrArea_median_Neighborhood)\n",
    "# Drop rows where MasVnrArea is 0 and MasVnrType is not NaN\n",
    "traindf = traindf.drop(index=traindf[(traindf['MasVnrArea'] == 0) & ~(traindf['MasVnrType'].isnull())].index)\n",
    "# Fill NaN values in MasVnrType with 'None' for remaining NaN values\n",
    "traindf['MasVnrType'] = traindf['MasVnrType'].fillna('None')\n",
    "\n",
    "# Fill NaN values in FireplaceQu with 'None'\n",
    "traindf['FireplaceQu'] = traindf['FireplaceQu'].fillna('None')\n",
    "\n",
    "# Fill NaN values in LotFrontage based on the median LotFrontage for each Neighborhood\n",
    "# Create boolean mask for those rows where LotFrontage is NA.\n",
    "mask = traindf['LotFrontage'].isna()\n",
    "# Group by Neighborhood and get the mode of LotFrontage by Neighborhood\n",
    "LotFrontage_median_Neighborhood = traindf.groupby('Neighborhood')['LotFrontage'].median()\n",
    "# Map the median values to the original DataFrame\n",
    "traindf.loc[mask, 'LotFrontage'] = traindf.loc[mask, 'Neighborhood'].map(LotFrontage_median_Neighborhood)\n",
    "\n",
    "# Fill NaN values in GarageType, GarageFinish, GarageQual, GarageCond with 'None'\n",
    "for var in ['GarageType', 'GarageFinish', 'GarageQual', 'GarageCond']:\n",
    "    traindf[var] = traindf[var].fillna('None')\n",
    "# Fill NaN values in GarageYrBlt with -1\n",
    "traindf['GarageYrBlt'] = traindf['GarageYrBlt'].fillna(-1)\n",
    "\n",
    "# Fill NaN values in the basement categorical columns with 'None' if all basement-related columns are NaN\n",
    "BsmtCatCols = ['BsmtQual', 'BsmtCond', 'BsmtExposure', 'BsmtFinType1', 'BsmtFinType2']\n",
    "mask = traindf[BsmtCatCols].isnull().all(axis=1)\n",
    "traindf.loc[mask, BsmtCatCols] = traindf.loc[mask, BsmtCatCols].fillna('None')\n",
    "\n",
    "# Drop remaining NaN values in basement-related columns\n",
    "traindf = traindf.drop(index=traindf[traindf['BsmtExposure'].isnull() | traindf['BsmtFinType2'].isnull()].index)\n",
    "\n",
    "# Drop rows where Electrical is NaN\n",
    "traindf = traindf.drop(index=traindf[traindf['Electrical'].isnull()].index)"
   ]
  },
  {
   "cell_type": "markdown",
   "id": "7bd63483",
   "metadata": {},
   "source": [
    "Check there are no more missing values on traindf:"
   ]
  },
  {
   "cell_type": "code",
   "execution_count": 4,
   "id": "89ed0d9f",
   "metadata": {},
   "outputs": [],
   "source": [
    "assert traindf.isnull().sum().sum() == 0, f\"Missing values found in traindf:\\n{traindf.isnull().sum()[traindf.isnull().sum() > 0]}\""
   ]
  },
  {
   "cell_type": "markdown",
   "id": "bcdf819f",
   "metadata": {},
   "source": [
    "Sanity check to ensure the shape of the dataset is the same after these changes than in the 'full analysis' notebook (1444, 81):"
   ]
  },
  {
   "cell_type": "code",
   "execution_count": 5,
   "id": "eb9e8589",
   "metadata": {},
   "outputs": [],
   "source": [
    "assert traindf.shape == (1444, 81), f\"Unexpected traindf shape: {traindf.shape}, expected (1444, 81)\""
   ]
  },
  {
   "cell_type": "markdown",
   "id": "9f28b865",
   "metadata": {},
   "source": [
    "Handle missing values on testdf:"
   ]
  },
  {
   "cell_type": "code",
   "execution_count": 6,
   "id": "8c7bcf52",
   "metadata": {},
   "outputs": [],
   "source": [
    "# Replace NA with 'None' in every missing PoolQC that has PoolArea = 0\n",
    "mask = (testdf['PoolArea'] == 0) & (testdf['PoolQC'].isnull())\n",
    "testdf.loc[mask, 'PoolQC'] = 'None'\n",
    "\n",
    "# Replace NA with 'None' in every missing MiscFeature that has MiscVal = 0\n",
    "mask = (testdf['MiscVal'] == 0) & (testdf['MiscFeature'].isnull())\n",
    "testdf.loc[mask, 'MiscFeature'] = 'None'\n",
    "\n",
    "# Replace NA with 'None' in every missing Alley and Fence\n",
    "testdf['Alley'] = testdf['Alley'].fillna('None')\n",
    "testdf['Fence'] = testdf['Fence'].fillna('None')\n",
    "\n",
    "# For those with both MasVnrtype and MasVnrArea missing, we will first replace the area with the median of the neighborhood from the training set\n",
    "mask = testdf['MasVnrType'].isna() & (testdf['MasVnrArea'].isna())\n",
    "testdf.loc[mask, 'MasVnrArea'] = testdf.loc[mask, 'Neighborhood'].map(MasVnrArea_median_Neighborhood)\n",
    "# Then replace the MasVnrType with the mode of the neighborhood from the training set on those rows with a valid MasVnrArea (>0)\n",
    "mask = testdf['MasVnrType'].isna() & (testdf['MasVnrArea'] > 0)\n",
    "testdf.loc[mask, 'MasVnrType'] = testdf.loc[mask, 'Neighborhood'].map(MasVnrType_mode_Neighborhood)\n",
    "# And for those with MasVnrArea = 0 and MasVnrType missing, we will replace the type with 'None'\n",
    "mask = testdf['MasVnrType'].isna() & (testdf['MasVnrArea'] == 0)\n",
    "testdf.loc[mask, 'MasVnrType'] = 'None'\n",
    "\n",
    "# Replace NA with 'None' in every missing FireplaceQu that has Fireplaces = 0\n",
    "mask = (testdf['Fireplaces'] == 0) & (testdf['FireplaceQu'].isnull())\n",
    "testdf.loc[mask, 'FireplaceQu'] = 'None'\n",
    "\n",
    "# Replace NA with the median LotFrontage of the neighborhood from the training set\n",
    "mask = testdf['LotFrontage'].isna()\n",
    "testdf.loc[mask, 'LotFrontage'] = testdf.loc[mask, 'Neighborhood'].map(LotFrontage_median_Neighborhood)\n",
    "\n",
    "# Replace NA with 'None' in every missing categorical Garage variables, with -1 in GarageYrBlt and with 0 in GarageArea and GarageCars\n",
    "# But only for those entries where all Garage variables mean there is no garage\n",
    "mask = (\n",
    "    ((testdf['GarageArea'].isnull()) | (testdf['GarageArea'] == 0)) &\n",
    "    ((testdf['GarageCars'].isnull()) | (testdf['GarageCars'] == 0)) &\n",
    "    (testdf['GarageQual'].isnull()) &\n",
    "    (testdf['GarageType'].isnull()) &\n",
    "    (testdf['GarageFinish'].isnull()) &\n",
    "    (testdf['GarageCond'].isnull()) &\n",
    "    ((testdf['GarageYrBlt'].isnull()) | (testdf['GarageYrBlt'] == 0))\n",
    ")\n",
    "for var in ['GarageType', 'GarageFinish', 'GarageQual', 'GarageCond']:\n",
    "    testdf.loc[mask, var] = 'None'\n",
    "testdf.loc[mask, 'GarageYrBlt'] = -1\n",
    "testdf.loc[mask, 'GarageArea'] = 0\n",
    "testdf.loc[mask, 'GarageCars'] = 0\n",
    "\n",
    "# Replace NA with 'None' in every missing categorical Basement variables, and with 0 in the numerical ones\n",
    "# But only for those entries where all Basement variables mean there is no basement\n",
    "mask = (\n",
    "    ((testdf['BsmtFinSF1'].isnull()) | (testdf['BsmtFinSF1'] == 0)) &\n",
    "    ((testdf['BsmtFinSF2'].isnull()) | (testdf['BsmtFinSF2'] == 0)) &\n",
    "    ((testdf['BsmtUnfSF'].isnull()) | (testdf['BsmtUnfSF'] == 0)) &\n",
    "    ((testdf['TotalBsmtSF'].isnull()) | (testdf['TotalBsmtSF'] == 0)) &\n",
    "    ((testdf['BsmtFullBath'].isnull()) | (testdf['BsmtFullBath'] == 0)) &\n",
    "    ((testdf['BsmtHalfBath'].isnull()) | (testdf['BsmtHalfBath'] == 0)) &\n",
    "    (testdf['BsmtQual'].isnull()) &\n",
    "    (testdf['BsmtCond'].isnull()) &\n",
    "    (testdf['BsmtExposure'].isnull()) &\n",
    "    (testdf['BsmtFinType1'].isnull()) &\n",
    "    (testdf['BsmtFinType2'].isnull())\n",
    ")\n",
    "for var in ['BsmtQual', 'BsmtCond', 'BsmtExposure', 'BsmtFinType1', 'BsmtFinType2']:\n",
    "    testdf.loc[mask, var] = 'None'\n",
    "for var in ['BsmtFinSF1', 'BsmtFinSF2', 'BsmtUnfSF', 'TotalBsmtSF', 'BsmtFullBath', 'BsmtHalfBath']:\n",
    "    testdf.loc[mask, var] = 0\n",
    "\n",
    "# Replace NA with the mode of the neighborhood from the training set for MSzoning\n",
    "mask = testdf['MSZoning'].isna()\n",
    "MSZoning_mode_Neighborhood = (traindf.groupby('Neighborhood')['MSZoning'].agg(lambda x: x.mode().iloc[0] if not x.mode().empty else 'None'))\n",
    "testdf.loc[mask, 'MSZoning'] = testdf.loc[mask, 'Neighborhood'].map(MSZoning_mode_Neighborhood)\n",
    "\n",
    "# Replace NA with the mode of the neighborhood from the training set for PoolQC\n",
    "mask = testdf['PoolQC'].isna()\n",
    "PoolQC_mode_Neighborhood = (traindf.groupby('Neighborhood')['PoolQC'].agg(lambda x: x.mode().iloc[0] if not x.mode().empty else 'None'))\n",
    "testdf.loc[mask, 'PoolQC'] = testdf.loc[mask, 'Neighborhood'].map(PoolQC_mode_Neighborhood)\n",
    "\n",
    "# Replace NA with the mode of the neighborhood from the training set for Utilities\n",
    "mask = testdf['Utilities'].isna()\n",
    "Utilities_mode_Neighborhood = (traindf.groupby('Neighborhood')['Utilities'].agg(lambda x: x.mode().iloc[0] if not x.mode().empty else 'None'))\n",
    "testdf.loc[mask, 'Utilities'] = testdf.loc[mask, 'Neighborhood'].map(Utilities_mode_Neighborhood)\n",
    "\n",
    "# Replace NA with 'Typ' in every missing Functional\n",
    "mask = testdf['Functional'].isna()\n",
    "testdf.loc[mask, 'Functional'] = 'Typ'\n",
    "\n",
    "# Replace NA with the mode of the neighborhood from the training set for Exterior1st\n",
    "mask = testdf['Exterior1st'].isna()\n",
    "Exterior1st_mode_Neighborhood = (traindf.groupby('Neighborhood')['Exterior1st'].agg(lambda x: x.mode().iloc[0] if not x.mode().empty else 'None'))\n",
    "testdf.loc[mask, 'Exterior1st'] = testdf.loc[mask, 'Neighborhood'].map(Exterior1st_mode_Neighborhood)\n",
    "\n",
    "# Replace NA with the mode of the neighborhood from the training set for Exterior2nd\n",
    "mask = testdf['Exterior2nd'].isna()\n",
    "Exterior2nd_mode_Neighborhood = (traindf.groupby('Neighborhood')['Exterior2nd'].agg(lambda x: x.mode().iloc[0] if not x.mode().empty else 'None'))\n",
    "testdf.loc[mask, 'Exterior2nd'] = testdf.loc[mask, 'Neighborhood'].map(Exterior2nd_mode_Neighborhood)\n",
    "\n",
    "# Replace NA with the mode of the neighborhood from the training set for KitchenQual\n",
    "mask = testdf['KitchenQual'].isna()\n",
    "KitchenQual_mode_Neighborhood = (traindf.groupby('Neighborhood')['KitchenQual'].agg(lambda x: x.mode().iloc[0] if not x.mode().empty else 'None'))\n",
    "testdf.loc[mask, 'KitchenQual'] = testdf.loc[mask, 'Neighborhood'].map(KitchenQual_mode_Neighborhood)\n",
    "\n",
    "# Replace NA with 'Other' in every missing MiscFeature\n",
    "mask = testdf['MiscFeature'].isna()\n",
    "testdf.loc[mask, 'MiscFeature'] = 'Other'\n",
    "\n",
    "# Replace NA with the mode of the neighborhood from the training set for SaleType\n",
    "mask = testdf['SaleType'].isna()\n",
    "SaleType_mode_Neighborhood = (traindf.groupby('Neighborhood')['SaleType'].agg(lambda x: x.mode().iloc[0] if not x.mode().empty else 'None'))\n",
    "testdf.loc[mask, 'SaleType'] = testdf.loc[mask, 'Neighborhood'].map(SaleType_mode_Neighborhood)\n",
    "\n",
    "# With the assumption that if GarageCars is null, then there is no garage, we will replace the missing values of the categorical variables with 'None'\n",
    "# and the numerical variables with 0 or -1, depending on the variable\n",
    "row_label = testdf[testdf['GarageCars'].isnull()].index[0]\n",
    "for var in ['GarageType', 'GarageFinish', 'GarageQual', 'GarageCond']:\n",
    "    testdf.loc[row_label, var] = 'None'\n",
    "testdf.loc[row_label, 'GarageArea'] = 0.0\n",
    "testdf.loc[row_label, 'GarageCars'] = 0.0\n",
    "testdf.loc[row_label, 'GarageYrBlt'] = -1\n",
    "\n",
    "# For the rest of the missing categorical Garage values, we will replace them with the mode of the neighborhood from the training set\n",
    "for var in ['GarageFinish', 'GarageQual', 'GarageCond', 'BsmtExposure', 'BsmtQual', 'BsmtCond']:\n",
    "    mask = testdf[var].isna()\n",
    "    mode = (traindf.groupby('Neighborhood')[var].agg(lambda x: x.mode().iloc[0] if not x.mode().empty else 'None'))\n",
    "    testdf.loc[mask, var] = testdf.loc[mask, 'Neighborhood'].map(mode)\n",
    "\n",
    "# And for GarageYrBlt, the only numerical variable, we will replace it with the median of the neighborhood from the training set\n",
    "GarageYrBlt_median_Neighborhood = traindf.groupby('Neighborhood')['GarageYrBlt'].median()\n",
    "row_label = testdf[testdf['GarageYrBlt'].isnull()].index[0]\n",
    "neighborhood = testdf.loc[row_label, 'Neighborhood']\n",
    "testdf.loc[row_label, 'GarageYrBlt'] = GarageYrBlt_median_Neighborhood[neighborhood]"
   ]
  },
  {
   "cell_type": "markdown",
   "id": "1b515bb5",
   "metadata": {},
   "source": [
    "Check there are no more missing values in testdf:"
   ]
  },
  {
   "cell_type": "code",
   "execution_count": 7,
   "id": "1317d53e",
   "metadata": {},
   "outputs": [],
   "source": [
    "assert testdf.isnull().sum().sum() == 0, f\"Missing values found in testdf:\\n{testdf.isnull().sum()[testdf.isnull().sum() > 0]}\""
   ]
  },
  {
   "cell_type": "markdown",
   "id": "c9b9e537",
   "metadata": {},
   "source": [
    "### 2.2. Feature engineering"
   ]
  },
  {
   "cell_type": "markdown",
   "id": "9b5b6a74",
   "metadata": {},
   "source": [
    "Creating new features:"
   ]
  },
  {
   "cell_type": "code",
   "execution_count": 8,
   "id": "19b4501e",
   "metadata": {},
   "outputs": [],
   "source": [
    "traindf['TotalBathrooms'] = traindf['FullBath'] + (0.5 * traindf['HalfBath']) + traindf['BsmtFullBath'] + (0.5 * traindf['BsmtHalfBath'])\n",
    "testdf['TotalBathrooms'] = testdf['FullBath'] + (0.5 * testdf['HalfBath']) + testdf['BsmtFullBath'] + (0.5 * testdf['BsmtHalfBath'])\n",
    "\n",
    "traindf['TotalSF'] = traindf['TotalBsmtSF'] + traindf['1stFlrSF'] + traindf['2ndFlrSF']\n",
    "testdf['TotalSF'] = testdf['TotalBsmtSF'] + testdf['1stFlrSF'] + testdf['2ndFlrSF']\n",
    "\n",
    "traindf['TotalFinSF'] = traindf['BsmtFinSF1'] + traindf['BsmtFinSF2'] + traindf['1stFlrSF'] + traindf['2ndFlrSF']\n",
    "testdf['TotalFinSF'] = testdf['BsmtFinSF1'] + testdf['BsmtFinSF2'] + testdf['1stFlrSF'] + testdf['2ndFlrSF']\n",
    "\n",
    "traindf['Has2ndFloor'] = (traindf['2ndFlrSF'] > 0).astype(int)\n",
    "testdf['Has2ndFloor'] = (testdf['2ndFlrSF'] > 0).astype(int)\n",
    "\n",
    "traindf['HasBasement'] = (traindf['TotalBsmtSF'] > 0).astype(int)\n",
    "testdf['HasBasement'] = (testdf['TotalBsmtSF'] > 0).astype(int)\n",
    "\n",
    "traindf['HasGarage'] = (traindf['GarageArea'] > 0).astype(int)\n",
    "testdf['HasGarage'] = (testdf['GarageArea'] > 0).astype(int)\n",
    "\n",
    "traindf['HasPool'] = (traindf['PoolArea'] > 0).astype(int)\n",
    "testdf['HasPool'] = (testdf['PoolArea'] > 0).astype(int)\n",
    "\n",
    "traindf['HouseAge'] = traindf['YrSold'] - traindf['YearBuilt']\n",
    "testdf['HouseAge'] = testdf['YrSold'] - testdf['YearBuilt']\n",
    "\n",
    "traindf['GarageAge'] = traindf['YrSold'] - traindf['GarageYrBlt']\n",
    "traindf.loc[traindf['GarageYrBlt'] == -1, 'GarageAge'] = -1 \n",
    "testdf['GarageAge'] = testdf['YrSold'] - testdf['GarageYrBlt']\n",
    "testdf.loc[testdf['GarageYrBlt'] == -1, 'GarageAge'] = -1 \n",
    "\n",
    "traindf['RemodelAge'] = traindf['YrSold'] - traindf['YearRemodAdd']\n",
    "traindf.loc[traindf['RemodelAge'] < 0, 'RemodelAge'] = 0\n",
    "testdf['RemodelAge'] = testdf['YrSold'] - testdf['YearRemodAdd']\n",
    "testdf.loc[testdf['RemodelAge'] < 0, 'RemodelAge'] = 0\n",
    "\n",
    "traindf['WasRemodel'] = (traindf['YearRemodAdd'] != traindf['YearBuilt']).astype(int)\n",
    "testdf['WasRemodel'] = (testdf['YearRemodAdd'] != testdf['YearBuilt']).astype(int)\n",
    "\n",
    "traindf['QualityIndex'] = traindf['OverallQual'] * traindf['OverallCond']\n",
    "testdf['QualityIndex'] = testdf['OverallQual'] * testdf['OverallCond']\n",
    "\n",
    "traindf['LotRatio'] = traindf['GrLivArea'] / traindf['LotArea']\n",
    "testdf['LotRatio'] = testdf['GrLivArea'] / testdf['LotArea']"
   ]
  },
  {
   "cell_type": "markdown",
   "id": "caaa2e60",
   "metadata": {},
   "source": [
    "Applying domain-transformations:"
   ]
  },
  {
   "cell_type": "code",
   "execution_count": 9,
   "id": "5fc9b755",
   "metadata": {},
   "outputs": [],
   "source": [
    "# Training set log transformations\n",
    "traindf['LotFrontage'] = np.log(traindf['LotFrontage'])\n",
    "traindf['LotArea'] = np.log(traindf['LotArea'])\n",
    "traindf['1stFlrSF'] = np.log(traindf['1stFlrSF'])\n",
    "traindf['GrLivArea'] = np.log(traindf['GrLivArea'])\n",
    "traindf['TotalSF'] = np.log(traindf['TotalSF'])\n",
    "traindf['TotalFinSF'] = np.log(traindf['TotalFinSF'])\n",
    "traindf['TotalBsmtSF'] = np.log1p(traindf['TotalBsmtSF'])\n",
    "traindf['SalePrice'] = np.log(traindf['SalePrice']) # Target variable transformation\n",
    "\n",
    "# Test set log transformations\n",
    "testdf['LotFrontage'] = np.log(testdf['LotFrontage'])\n",
    "testdf['LotArea'] = np.log(testdf['LotArea'])\n",
    "testdf['1stFlrSF'] = np.log(testdf['1stFlrSF'])\n",
    "testdf['GrLivArea'] = np.log(testdf['GrLivArea'])\n",
    "testdf['TotalSF'] = np.log(testdf['TotalSF'])\n",
    "testdf['TotalFinSF'] = np.log(testdf['TotalFinSF'])\n",
    "testdf['TotalBsmtSF'] = np.log1p(testdf['TotalBsmtSF'])"
   ]
  },
  {
   "cell_type": "markdown",
   "id": "4435f7aa",
   "metadata": {},
   "source": [
    "Dropping unnecessary columns:"
   ]
  },
  {
   "cell_type": "code",
   "execution_count": 10,
   "id": "f90605ab",
   "metadata": {},
   "outputs": [],
   "source": [
    "drop_columns = ['Id','MiscVal', 'MiscFeature', 'Utilities', 'OpenPorchSF']\n",
    "\n",
    "traindf.drop(columns = drop_columns, inplace=True)\n",
    "test_id = testdf['Id'] # Save the Id column for submission later\n",
    "testdf.drop(columns = drop_columns, inplace=True)"
   ]
  },
  {
   "cell_type": "markdown",
   "id": "3cb83611",
   "metadata": {},
   "source": [
    "### 2.3. Sanitize data types"
   ]
  },
  {
   "cell_type": "code",
   "execution_count": 11,
   "id": "255a8887",
   "metadata": {},
   "outputs": [],
   "source": [
    "cat_features = [\n",
    "    'MSSubClass', 'MSZoning', 'Street', 'Alley', 'LotShape', 'LandContour',\n",
    "    'LotConfig', 'LandSlope', 'Neighborhood', 'Condition1', 'Condition2', 'BldgType',\n",
    "    'HouseStyle', 'OverallQual', 'OverallCond', 'RoofStyle', 'RoofMatl', 'Exterior1st',\n",
    "    'Exterior2nd', 'MasVnrType', 'ExterQual', 'ExterCond', 'Foundation', 'BsmtQual',\n",
    "    'BsmtCond', 'BsmtExposure', 'BsmtFinType1', 'BsmtFinType2', 'Heating', 'HeatingQC',\n",
    "    'CentralAir', 'Electrical', 'KitchenQual', 'Functional', 'FireplaceQu', 'GarageType',\n",
    "    'GarageFinish', 'GarageQual', 'GarageCond', 'PavedDrive', 'PoolQC', 'Fence',\n",
    "    'MoSold', 'SaleType', 'SaleCondition', 'Has2ndFloor', 'HasBasement',\n",
    "    'HasGarage', 'HasPool', 'WasRemodel'\n",
    "]\n",
    "\n",
    "num_features = [\n",
    "    'LotFrontage', 'LotArea', 'YearBuilt', 'YearRemodAdd', 'MasVnrArea', 'BsmtFinSF1',\n",
    "    'BsmtFinSF2', 'BsmtUnfSF', 'TotalBsmtSF', '1stFlrSF', '2ndFlrSF', 'LowQualFinSF',\n",
    "    'GrLivArea', 'BsmtFullBath', 'BsmtHalfBath', 'FullBath', 'HalfBath', 'BedroomAbvGr',\n",
    "    'KitchenAbvGr', 'TotRmsAbvGrd', 'Fireplaces', 'GarageYrBlt', 'GarageCars',\n",
    "    'GarageArea', 'WoodDeckSF', 'EnclosedPorch', '3SsnPorch',\n",
    "    'ScreenPorch', 'PoolArea', 'YrSold', 'TotalBathrooms', 'TotalSF',\n",
    "    'TotalFinSF', 'HouseAge', 'GarageAge', 'RemodelAge', 'QualityIndex', 'LotRatio'\n",
    "]\n",
    "\n",
    "for cat in cat_features:\n",
    "    traindf[cat] = traindf[cat].astype(str)\n",
    "    testdf[cat] = testdf[cat].astype(str)\n",
    "\n",
    "for num in num_features:\n",
    "    traindf[num] = traindf[num].astype(np.float32)\n",
    "    testdf[num] = testdf[num].astype(np.float32)\n",
    "\n",
    "traindf['SalePrice'] = traindf['SalePrice'].astype(np.float32)"
   ]
  },
  {
   "cell_type": "markdown",
   "id": "59ac0a20",
   "metadata": {},
   "source": [
    "### 2.4. Split features and labels"
   ]
  },
  {
   "cell_type": "code",
   "execution_count": 12,
   "id": "0bc64d6a",
   "metadata": {},
   "outputs": [],
   "source": [
    "Y = traindf['SalePrice']\n",
    "X = traindf.drop('SalePrice', axis=1)"
   ]
  },
  {
   "cell_type": "markdown",
   "id": "a7b128f9",
   "metadata": {},
   "source": [
    "## 3. Model training"
   ]
  },
  {
   "cell_type": "markdown",
   "id": "735bb077",
   "metadata": {},
   "source": []
  },
  {
   "cell_type": "code",
   "execution_count": 13,
   "id": "8e02958a",
   "metadata": {},
   "outputs": [],
   "source": [
    "# Create Pools (CatBoost's data structure)\n",
    "train_pool = Pool(data=X, label=Y, cat_features=cat_features)\n",
    "test_pool = Pool(data=testdf, cat_features=cat_features)"
   ]
  },
  {
   "cell_type": "code",
   "execution_count": 14,
   "id": "672a7e4b",
   "metadata": {},
   "outputs": [
    {
     "name": "stdout",
     "output_type": "stream",
     "text": [
      "0:\tlearn: 0.3909216\ttotal: 50.1ms\tremaining: 37.6s\n",
      "100:\tlearn: 0.1255822\ttotal: 469ms\tremaining: 3.01s\n",
      "200:\tlearn: 0.0979779\ttotal: 916ms\tremaining: 2.5s\n",
      "300:\tlearn: 0.0875046\ttotal: 1.37s\tremaining: 2.04s\n",
      "400:\tlearn: 0.0798132\ttotal: 1.83s\tremaining: 1.59s\n",
      "500:\tlearn: 0.0733863\ttotal: 2.29s\tremaining: 1.14s\n",
      "600:\tlearn: 0.0676355\ttotal: 2.74s\tremaining: 680ms\n",
      "700:\tlearn: 0.0627697\ttotal: 3.2s\tremaining: 224ms\n",
      "749:\tlearn: 0.0607096\ttotal: 3.43s\tremaining: 0us\n"
     ]
    },
    {
     "data": {
      "text/plain": [
       "<catboost.core.CatBoostRegressor at 0x7e010fb5b050>"
      ]
     },
     "execution_count": 14,
     "metadata": {},
     "output_type": "execute_result"
    }
   ],
   "source": [
    "# Create final model\n",
    "Final_model = CatBoostRegressor(\n",
    "    iterations=750,  # Number of boosting iterations\n",
    "    # The best model was trained with 3000 iterations and early stopping, and achieved best results at 687 iterations\n",
    "    # Given that the final model is trained with the full training set (instead of the 70/20/10 split), we will increase the number of iterations to 750 (+ ~10%)\n",
    "    learning_rate=0.03,\n",
    "    depth=6,\n",
    "    l2_leaf_reg=1,\n",
    "    bagging_temperature=1.0,\n",
    "    eval_metric='RMSE',\n",
    "    random_seed=33,\n",
    "    verbose=100  # Print progress after how many iterations\n",
    ")\n",
    "\n",
    "# Fit the model\n",
    "Final_model.fit(train_pool)"
   ]
  },
  {
   "cell_type": "markdown",
   "id": "5fc1bbce",
   "metadata": {},
   "source": [
    "## 4. Prediction and export for submission"
   ]
  },
  {
   "cell_type": "markdown",
   "id": "9869c9c9",
   "metadata": {},
   "source": [
    "Finally, let's predict the prices of the test set, and export the results for submission."
   ]
  },
  {
   "cell_type": "code",
   "execution_count": 15,
   "id": "6d4da048",
   "metadata": {},
   "outputs": [],
   "source": [
    "test_pred = Final_model.predict(test_pool)"
   ]
  },
  {
   "cell_type": "code",
   "execution_count": 16,
   "id": "44f251ea",
   "metadata": {},
   "outputs": [],
   "source": [
    "test_pred_df = pd.DataFrame({\n",
    "    'Id': test_id,\n",
    "    'SalePrice': test_pred  # Convert predictions back to original scale\n",
    "})"
   ]
  },
  {
   "cell_type": "code",
   "execution_count": 17,
   "id": "8207f11d",
   "metadata": {},
   "outputs": [],
   "source": [
    "test_pred_df['SalePrice'] = np.expm1(test_pred_df['SalePrice'])  # Convert log predictions back to original scale"
   ]
  },
  {
   "cell_type": "code",
   "execution_count": 18,
   "id": "e90e18ae",
   "metadata": {},
   "outputs": [
    {
     "data": {
      "text/html": [
       "<div>\n",
       "<style scoped>\n",
       "    .dataframe tbody tr th:only-of-type {\n",
       "        vertical-align: middle;\n",
       "    }\n",
       "\n",
       "    .dataframe tbody tr th {\n",
       "        vertical-align: top;\n",
       "    }\n",
       "\n",
       "    .dataframe thead th {\n",
       "        text-align: right;\n",
       "    }\n",
       "</style>\n",
       "<table border=\"1\" class=\"dataframe\">\n",
       "  <thead>\n",
       "    <tr style=\"text-align: right;\">\n",
       "      <th></th>\n",
       "      <th>Id</th>\n",
       "      <th>SalePrice</th>\n",
       "    </tr>\n",
       "  </thead>\n",
       "  <tbody>\n",
       "    <tr>\n",
       "      <th>0</th>\n",
       "      <td>1461</td>\n",
       "      <td>120789.035270</td>\n",
       "    </tr>\n",
       "    <tr>\n",
       "      <th>1</th>\n",
       "      <td>1462</td>\n",
       "      <td>163266.007771</td>\n",
       "    </tr>\n",
       "    <tr>\n",
       "      <th>2</th>\n",
       "      <td>1463</td>\n",
       "      <td>187628.270793</td>\n",
       "    </tr>\n",
       "    <tr>\n",
       "      <th>3</th>\n",
       "      <td>1464</td>\n",
       "      <td>196560.812107</td>\n",
       "    </tr>\n",
       "    <tr>\n",
       "      <th>4</th>\n",
       "      <td>1465</td>\n",
       "      <td>183218.249905</td>\n",
       "    </tr>\n",
       "  </tbody>\n",
       "</table>\n",
       "</div>"
      ],
      "text/plain": [
       "     Id      SalePrice\n",
       "0  1461  120789.035270\n",
       "1  1462  163266.007771\n",
       "2  1463  187628.270793\n",
       "3  1464  196560.812107\n",
       "4  1465  183218.249905"
      ]
     },
     "execution_count": 18,
     "metadata": {},
     "output_type": "execute_result"
    }
   ],
   "source": [
    "test_pred_df.head()"
   ]
  },
  {
   "cell_type": "code",
   "execution_count": 19,
   "id": "ca71c796",
   "metadata": {},
   "outputs": [],
   "source": [
    "test_pred_df.to_csv('../outputs/submission.csv', index=False)"
   ]
  }
 ],
 "metadata": {
  "kernelspec": {
   "display_name": "ml-env",
   "language": "python",
   "name": "python3"
  },
  "language_info": {
   "codemirror_mode": {
    "name": "ipython",
    "version": 3
   },
   "file_extension": ".py",
   "mimetype": "text/x-python",
   "name": "python",
   "nbconvert_exporter": "python",
   "pygments_lexer": "ipython3",
   "version": "3.12.3"
  }
 },
 "nbformat": 4,
 "nbformat_minor": 5
}
