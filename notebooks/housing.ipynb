{
 "cells": [
  {
   "cell_type": "markdown",
   "id": "d9a72d95",
   "metadata": {},
   "source": [
    "This notebook will explore a dataset provided by Kaggle for housing price prediction.\n",
    "First we will implement a random forest model to get a baseline and then we will implement a more complex neural network solution."
   ]
  },
  {
   "cell_type": "code",
   "execution_count": null,
   "id": "1d0efa33",
   "metadata": {},
   "outputs": [],
   "source": [
    "import numpy as np\n",
    "import pandas as pd\n",
    "import seaborn as sns\n",
    "import matplotlib.pyplot as plt\n",
    "import tensorflow as tf\n",
    "import tensorflow_decision_forests as tfdf\n",
    "from sklearn.model_selection import train_test_split\n",
    "from sklearn.metrics import mean_squared_error, mean_absolute_error, r2_score"
   ]
  },
  {
   "cell_type": "code",
   "execution_count": null,
   "id": "0a491039",
   "metadata": {},
   "outputs": [],
   "source": [
    "data_path = \"./train.csv\" # Relative path to the training dataset, equivalent to /mnt/c/Users/ekc/Documents/homespace/train.csv\n",
    "df = pd.read_csv(data_path)"
   ]
  },
  {
   "cell_type": "code",
   "execution_count": null,
   "id": "8b902480",
   "metadata": {},
   "outputs": [],
   "source": [
    "df.shape"
   ]
  },
  {
   "cell_type": "code",
   "execution_count": null,
   "id": "d63a2dfb",
   "metadata": {},
   "outputs": [],
   "source": [
    "df.head()"
   ]
  },
  {
   "cell_type": "code",
   "execution_count": null,
   "id": "f86f79dc",
   "metadata": {},
   "outputs": [],
   "source": [
    "df.drop(\"Id\", axis=1, inplace=True)"
   ]
  },
  {
   "cell_type": "code",
   "execution_count": null,
   "id": "9a172e5e",
   "metadata": {},
   "outputs": [],
   "source": [
    "df.info()"
   ]
  },
  {
   "cell_type": "code",
   "execution_count": null,
   "id": "b5db182e",
   "metadata": {},
   "outputs": [],
   "source": [
    "labels = df[\"SalePrice\"]\n",
    "df.drop(\"SalePrice\", axis=1, inplace=True)\n",
    "X_train, X_dev, Y_train, Y_dev = train_test_split(df, labels, test_size=0.3, random_state=53)"
   ]
  },
  {
   "cell_type": "code",
   "execution_count": null,
   "id": "f7ae1321",
   "metadata": {},
   "outputs": [],
   "source": [
    "X_dev.info()"
   ]
  },
  {
   "cell_type": "code",
   "execution_count": null,
   "id": "1fd10b24",
   "metadata": {},
   "outputs": [],
   "source": [
    "train_df = pd.concat([X_train, Y_train], axis=1)\n",
    "dev_df = pd.concat([X_dev, Y_dev], axis=1)"
   ]
  },
  {
   "cell_type": "code",
   "execution_count": null,
   "id": "1480e7e1",
   "metadata": {},
   "outputs": [],
   "source": [
    "dev_df.info()"
   ]
  },
  {
   "cell_type": "code",
   "execution_count": null,
   "id": "2dd953a3",
   "metadata": {},
   "outputs": [],
   "source": [
    "plt.hist(labels, bins=100)\n",
    "plt.show()"
   ]
  },
  {
   "cell_type": "code",
   "execution_count": null,
   "id": "04d8fe22",
   "metadata": {},
   "outputs": [],
   "source": [
    "RF_model = tfdf.keras.RandomForestModel(\n",
    "    task=tfdf.keras.Task.REGRESSION,   # Define the task (Regression)\n",
    "    num_trees=300,                    # Number of trees in the forest\n",
    "    max_depth=10,                     # Maximum depth of trees\n",
    "    min_examples=5,                   # Minimum number of examples per leaf node\n",
    "    categorical_algorithm=\"CART\",     # CART algorithm for categorical features\n",
    "    compute_oob_variable_importances=True,  # Compute out-of-bag variable importances\n",
    ")"
   ]
  },
  {
   "cell_type": "code",
   "execution_count": null,
   "id": "752c6293",
   "metadata": {},
   "outputs": [],
   "source": [
    "RF_model.fit(tfdf.keras.pd_dataframe_to_tf_dataset(train_df, task=tfdf.keras.Task.REGRESSION, label=\"SalePrice\"))"
   ]
  },
  {
   "cell_type": "code",
   "execution_count": null,
   "id": "6f00a506",
   "metadata": {},
   "outputs": [],
   "source": [
    "inspector = RF_model.make_inspector()\n",
    "training_metrics = inspector.evaluation()\n",
    "print(training_metrics)"
   ]
  },
  {
   "cell_type": "code",
   "execution_count": null,
   "id": "01466234",
   "metadata": {},
   "outputs": [],
   "source": [
    "print(RF_model.task)"
   ]
  },
  {
   "cell_type": "code",
   "execution_count": null,
   "id": "7089ddd8",
   "metadata": {},
   "outputs": [],
   "source": [
    "RF_results = RF_model.evaluate(tfdf.keras.pd_dataframe_to_tf_dataset(train_df, task=tfdf.keras.Task.REGRESSION, label=\"SalePrice\"), return_dict=True)"
   ]
  },
  {
   "cell_type": "code",
   "execution_count": null,
   "id": "7d616764",
   "metadata": {},
   "outputs": [],
   "source": [
    "print(RF_results)"
   ]
  },
  {
   "cell_type": "code",
   "execution_count": null,
   "id": "ffc61ff4",
   "metadata": {},
   "outputs": [],
   "source": []
  }
 ],
 "metadata": {
  "kernelspec": {
   "display_name": "ml-env",
   "language": "python",
   "name": "python3"
  },
  "language_info": {
   "codemirror_mode": {
    "name": "ipython",
    "version": 3
   },
   "file_extension": ".py",
   "mimetype": "text/x-python",
   "name": "python",
   "nbconvert_exporter": "python",
   "pygments_lexer": "ipython3",
   "version": "3.12.3"
  }
 },
 "nbformat": 4,
 "nbformat_minor": 5
}
